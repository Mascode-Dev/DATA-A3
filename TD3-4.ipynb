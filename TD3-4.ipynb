{
 "cells": [
  {
   "cell_type": "markdown",
   "metadata": {},
   "source": [
    "# EXERCICE 1 - PARTIE 2 : PYTHON\n",
    "### 1) SANS PANDAS / SK"
   ]
  },
  {
   "cell_type": "code",
   "execution_count": 29,
   "metadata": {},
   "outputs": [],
   "source": [
    "import numpy as np\n",
    "from sklearn.decomposition import PCA\n",
    "from sklearn.preprocessing import StandardScaler\n",
    "import matplotlib.pyplot as plt"
   ]
  },
  {
   "cell_type": "code",
   "execution_count": 3,
   "metadata": {},
   "outputs": [
    {
     "name": "stdout",
     "output_type": "stream",
     "text": [
      "La moyenne de X est 4.0, La moyenne de Y est 37.5\n",
      "L'écart type de X est 1.224744871391589 et celui de Y est 12.298373876248844\n"
     ]
    }
   ],
   "source": [
    "X = np.array([3,3,4,6])\n",
    "Y = np.array([21, 32, 43, 54])\n",
    "avg_x = np.mean(X)\n",
    "avg_y = np.mean(Y)\n",
    "\n",
    "ecart_type_x = np.std(X)\n",
    "ecart_type_y = np.std(Y)\n",
    "\n",
    "print(f\"La moyenne de X est {avg_x}, La moyenne de Y est {avg_y}\")\n",
    "print(f\"L'écart type de X est {ecart_type_x} et celui de Y est {ecart_type_y}\")"
   ]
  },
  {
   "cell_type": "code",
   "execution_count": 5,
   "metadata": {},
   "outputs": [
    {
     "data": {
      "text/plain": [
       "(array([-0.81649658, -0.81649658,  0.        ,  1.63299316]),\n",
       " array([-1.34164079, -0.4472136 ,  0.4472136 ,  1.34164079]))"
      ]
     },
     "execution_count": 5,
     "metadata": {},
     "output_type": "execute_result"
    }
   ],
   "source": [
    "X_std = (X - avg_x)/ecart_type_x\n",
    "Y_std = (Y - avg_y)/ecart_type_y\n",
    "X_std, Y_std"
   ]
  },
  {
   "cell_type": "code",
   "execution_count": 6,
   "metadata": {},
   "outputs": [
    {
     "data": {
      "text/plain": [
       "array([[1.33333333, 1.21716124],\n",
       "       [1.21716124, 1.33333333]])"
      ]
     },
     "execution_count": 6,
     "metadata": {},
     "output_type": "execute_result"
    }
   ],
   "source": [
    "#Cov matrix\n",
    "cov_matrix = np.cov(X_std, Y_std)\n",
    "cov_matrix"
   ]
  },
  {
   "cell_type": "code",
   "execution_count": 9,
   "metadata": {},
   "outputs": [
    {
     "data": {
      "text/plain": [
       "(array([2.55049457, 0.11617209]),\n",
       " array([[ 0.70710678, -0.70710678],\n",
       "        [ 0.70710678,  0.70710678]]))"
      ]
     },
     "execution_count": 9,
     "metadata": {},
     "output_type": "execute_result"
    }
   ],
   "source": [
    "#Eigenvectors of each matrix\n",
    "eigenvalues, eigenvectors = np.linalg.eig(cov_matrix)\n",
    "eigenvalues, eigenvectors"
   ]
  },
  {
   "cell_type": "code",
   "execution_count": 23,
   "metadata": {},
   "outputs": [
    {
     "data": {
      "text/plain": [
       "[95.64354645876384, 4.356453541236168]"
      ]
     },
     "execution_count": 23,
     "metadata": {},
     "output_type": "execute_result"
    }
   ],
   "source": [
    "#Taux de variance expliqué\n",
    "explained_variance = []\n",
    "for i in eigenvalues:\n",
    "    explained_variance.append((i/sum(eigenvalues))*100)\n",
    "explained_variance"
   ]
  },
  {
   "cell_type": "code",
   "execution_count": 14,
   "metadata": {},
   "outputs": [
    {
     "data": {
      "text/plain": [
       "array([[ 0.5,  0.5],\n",
       "       [-0.5,  0.5]])"
      ]
     },
     "execution_count": 14,
     "metadata": {},
     "output_type": "execute_result"
    }
   ],
   "source": [
    "#Standardize egeinvector U_n = U/||U||\n",
    "U = eigenvectors\n",
    "U_n = U/np.linalg.norm(U)\n",
    "U_n"
   ]
  },
  {
   "cell_type": "code",
   "execution_count": null,
   "metadata": {},
   "outputs": [],
   "source": []
  },
  {
   "cell_type": "markdown",
   "metadata": {},
   "source": [
    "### 2) AVEC SK"
   ]
  },
  {
   "cell_type": "code",
   "execution_count": 25,
   "metadata": {},
   "outputs": [
    {
     "name": "stdout",
     "output_type": "stream",
     "text": [
      "Les composantes principales sont [[ 0.70710678  0.70710678]\n",
      " [ 0.70710678 -0.70710678]]\n",
      "Les taux de variance sont [2.55049457 0.11617209]\n",
      "Les taux de variance expliqué sont [0.95643546 0.04356454]\n"
     ]
    }
   ],
   "source": [
    "pca = PCA(n_components=2)\n",
    "scaler = StandardScaler()\n",
    "Z = scaler.fit_transform(np.vstack((X, Y)).T)\n",
    "\n",
    "pca.fit(Z)\n",
    "x_pca = pca.fit_transform(Z) #Projeter les données sur les composantes principales\n",
    "pca.components_ #Composantes principales\n",
    "pca.explained_variance_ #Taux de variance\n",
    "pca.explained_variance_ratio_ #Taux de variance expliqué\n",
    "\n",
    "print(f\"Les composantes principales sont {pca.components_}\")\n",
    "print(f\"Les taux de variance sont {pca.explained_variance_}\")\n",
    "print(f\"Les taux de variance expliqué sont {pca.explained_variance_ratio_}\")"
   ]
  },
  {
   "cell_type": "code",
   "execution_count": null,
   "metadata": {},
   "outputs": [],
   "source": []
  },
  {
   "cell_type": "markdown",
   "metadata": {},
   "source": [
    "# EXERCICE 2"
   ]
  },
  {
   "cell_type": "code",
   "execution_count": 26,
   "metadata": {},
   "outputs": [],
   "source": [
    "rng = np.random.RandomState(1)\n",
    "data = (rng.rand(2,2)@rng.randn(2,200)).T"
   ]
  },
  {
   "cell_type": "code",
   "execution_count": 31,
   "metadata": {},
   "outputs": [
    {
     "data": {
      "image/png": "[encoded data removed]",
      "text/plain": [
       "<Figure size 432x288 with 1 Axes>"
      ]
     },
     "metadata": {
      "needs_background": "light"
     },
     "output_type": "display_data"
    }
   ],
   "source": [
    "plt.scatter(data[:,0], data[:,1])\n",
    "plt.show()"
   ]
  },
  {
   "cell_type": "code",
   "execution_count": 33,
   "metadata": {},
   "outputs": [
    {
     "name": "stdout",
     "output_type": "stream",
     "text": [
      "Les composantes principales sont [[-0.70710678 -0.70710678]\n",
      " [-0.70710678  0.70710678]]\n",
      "Les taux de variance sont [1.89888438 0.11116588]\n",
      "Les taux de variance expliqué sont [0.94469498 0.05530502]\n"
     ]
    }
   ],
   "source": [
    "pca = PCA(n_components=2)\n",
    "scaler = StandardScaler()\n",
    "data_fit = scaler.fit(data)\n",
    "\n",
    "pca.fit_transform(data_fit.transform(data))\n",
    "print(f\"Les composantes principales sont {pca.components_}\")\n",
    "print(f\"Les taux de variance sont {pca.explained_variance_}\")\n",
    "print(f\"Les taux de variance expliqué sont {pca.explained_variance_ratio_}\")"
   ]
  },
  {
   "cell_type": "code",
   "execution_count": null,
   "metadata": {},
   "outputs": [
    {
     "data": {
      "image/png": "[encoded data removed]",
      "text/plain": [
       "<Figure size 720x720 with 1 Axes>"
      ]
     },
     "metadata": {
      "needs_background": "light"
     },
     "output_type": "display_data"
    }
   ],
   "source": [
    "plt.figure(figsize=(10, 10))\n",
    "plt.scatter(data[:, 0], data[:, 1], alpha=0.2)\n",
    "plt.scatter(pca.inverse_transform(pca.transform(data))[:, 0], pca.inverse_transform(pca.transform(data))[:, 1], alpha=0.8)\n",
    "plt.quiver(pca.mean_[0], pca.mean_[1], pca.components_[0, 0], pca.components_[0, 1])\n",
    "\n",
    "plt.show()"
   ]
  },
  {
   "cell_type": "code",
   "execution_count": 37,
   "metadata": {},
   "outputs": [
    {
     "name": "stdout",
     "output_type": "stream",
     "text": [
      "Les variances expliquées par les axes sont [1.89888438 0.11116588]\n",
      "Les variances expliquées cumulées sont [1.89888438 2.01005025]\n"
     ]
    },
    {
     "data": {
      "text/plain": [
       "<BarContainer object of 2 artists>"
      ]
     },
     "execution_count": 37,
     "metadata": {},
     "output_type": "execute_result"
    },
    {
     "data": {
      "image/png": "[encoded data removed]",
      "text/plain": [
       "<Figure size 432x288 with 1 Axes>"
      ]
     },
     "metadata": {
      "needs_background": "light"
     },
     "output_type": "display_data"
    }
   ],
   "source": [
    "\n",
    "explained_variance = pca.explained_variance_\n",
    "explained_variance_ratio = pca.explained_variance_ratio_\n",
    "\n",
    "print(f\"Les variances expliquées par les axes sont {explained_variance}\")\n",
    "print(f\"Les variances expliquées cumulées sont {np.cumsum(explained_variance)}\")\n",
    "\n",
    "plt.bar(range(1, len(explained_variance)+1), explained_variance_ratio, alpha=0.5, align='center', label='Explained variance')"
   ]
  },
  {
   "cell_type": "code",
   "execution_count": 40,
   "metadata": {},
   "outputs": [
    {
     "data": {
      "image/png": "[encoded data removed]",
      "text/plain": [
       "<Figure size 720x720 with 1 Axes>"
      ]
     },
     "metadata": {
      "needs_background": "light"
     },
     "output_type": "display_data"
    }
   ],
   "source": [
    "#. Visualiser sur un même graphique le nuage standardisé et le nouveau nuage projeté avec l’axe de composante principale\n",
    "plt.figure(figsize=(10, 10))\n",
    "plt.scatter(data[:, 0], data[:, 1], alpha=0.2)\n",
    "plt.scatter(pca.inverse_transform(pca.transform(data))[:, 0], pca.inverse_transform(pca.transform(data))[:, 1], alpha=0.8)\n",
    "plt.quiver(pca.mean_[0], pca.mean_[1], pca.components_[0, 0], pca.components_[0, 1])\n",
    "plt.show()"
   ]
  },
  {
   "cell_type": "markdown",
   "metadata": {},
   "source": [
    "# EXERCICE 3"
   ]
  },
  {
   "cell_type": "code",
   "execution_count": null,
   "metadata": {},
   "outputs": [],
   "source": []
  }
 ],
 "metadata": {
  "kernelspec": {
   "display_name": "Python 3",
   "language": "python",
   "name": "python3"
  },
  "language_info": {
   "codemirror_mode": {
    "name": "ipython",
    "version": 3
   },
   "file_extension": ".py",
   "mimetype": "text/x-python",
   "name": "python",
   "nbconvert_exporter": "python",
   "pygments_lexer": "ipython3",
   "version": "3.10.5"
  }
 },
 "nbformat": 4,
 "nbformat_minor": 2
}
