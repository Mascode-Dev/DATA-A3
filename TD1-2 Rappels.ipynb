{
 "cells": [
  {
   "cell_type": "markdown",
   "metadata": {},
   "source": [
    "TD 1-2 : Rappels sur Numpy, Matplotlib et Seaborn\n",
    "=============\n",
    "\n",
    "Le but de ce TD est de vous rappeler les choses que vous avez vu au premier semestre et de l’utiliser sur un vrai jeu de données. Nous allons réutiliser numpy, pandas, matplotlib, seaborn."
   ]
  },
  {
   "cell_type": "code",
   "execution_count": 1,
   "metadata": {},
   "outputs": [],
   "source": [
    "import numpy as np"
   ]
  },
  {
   "cell_type": "markdown",
   "metadata": {},
   "source": [
    "Mis en pratique\n",
    "===============\n",
    "\n",
    "Créer une fonction \"create_and_add1\" pour qu'elle prenne en entrée une liste, créé un array à partir de celle liste et ajoute 1 à tous les éléments."
   ]
  },
  {
   "cell_type": "code",
   "execution_count": 2,
   "metadata": {},
   "outputs": [],
   "source": [
    "def create_and_add1(l):\n",
    "    a = np.array(l)\n",
    "    return a + 1"
   ]
  },
  {
   "cell_type": "code",
   "execution_count": 3,
   "metadata": {},
   "outputs": [
    {
     "name": "stdout",
     "output_type": "stream",
     "text": [
      "okay\n"
     ]
    }
   ],
   "source": [
    "# Test\n",
    "assert np.all(np.equal(create_and_add1([1,2,3]), np.array([2,3,4])))\n",
    "assert np.all(np.equal(create_and_add1([i for i in range(10)]),np.arange(1,11)))\n",
    "print(\"okay\")"
   ]
  },
  {
   "cell_type": "markdown",
   "metadata": {},
   "source": [
    "Écrire une fonction \"num_elem_and_dim\" qui renvoie le nombre d'élements et la dimension de l'array"
   ]
  },
  {
   "cell_type": "code",
   "execution_count": 4,
   "metadata": {},
   "outputs": [],
   "source": [
    "def num_elem_and_dim(array):\n",
    "    return array.size, array.ndim"
   ]
  },
  {
   "cell_type": "code",
   "execution_count": 5,
   "metadata": {},
   "outputs": [
    {
     "name": "stdout",
     "output_type": "stream",
     "text": [
      "okay\n"
     ]
    }
   ],
   "source": [
    "a = np.zeros(4)\n",
    "b = np.arange(100).reshape((5,5,2,2))\n",
    "\n",
    "assert np.all(np.equal(num_elem_and_dim(a),(4,1)))\n",
    "assert np.all(np.equal(num_elem_and_dim(b),(100,4)))\n",
    "print(\"okay\")"
   ]
  },
  {
   "cell_type": "markdown",
   "metadata": {},
   "source": [
    "Fonction \"max_min_moy\" qui renvoie le maximum, le minimum et la moyenne d'un vecteur ou d'une matrice"
   ]
  },
  {
   "cell_type": "code",
   "execution_count": 6,
   "metadata": {},
   "outputs": [],
   "source": [
    "def max_min_moy(array):\n",
    "    return array.max(), array.min(), array.mean()"
   ]
  },
  {
   "cell_type": "code",
   "execution_count": 7,
   "metadata": {},
   "outputs": [
    {
     "name": "stdout",
     "output_type": "stream",
     "text": [
      "okay\n"
     ]
    }
   ],
   "source": [
    "a = np.arange(20)\n",
    "b = np.arange(160).reshape((20,8)) + 2\n",
    "\n",
    "assert np.all(np.equal(max_min_moy(a), (19,0,9.5) ))\n",
    "assert np.all(np.equal(max_min_moy(b), (161,2,81.5)))\n",
    "print(\"okay\")"
   ]
  },
  {
   "cell_type": "markdown",
   "metadata": {},
   "source": [
    "Fonction suppr_three qui transforme la 3e colonne en zeros"
   ]
  },
  {
   "cell_type": "code",
   "execution_count": 8,
   "metadata": {},
   "outputs": [],
   "source": [
    "def suppr_three(array):\n",
    "    array[:,2] = 0\n",
    "    return array"
   ]
  },
  {
   "cell_type": "code",
   "execution_count": 9,
   "metadata": {},
   "outputs": [
    {
     "name": "stdout",
     "output_type": "stream",
     "text": [
      "Ça continue\n"
     ]
    }
   ],
   "source": [
    "a = np.arange(160).reshape((20,8)) + 2\n",
    "b = np.arange(160).reshape((20,8)) + 4\n",
    "\n",
    "assert suppr_three(a).sum() == 11440\n",
    "assert suppr_three(b).sum() == 11720\n",
    "print(\"Ça continue\")"
   ]
  },
  {
   "cell_type": "markdown",
   "metadata": {},
   "source": [
    "Fonction \"swap_ten_and_last\" qui échange la ligne dont l'index vaut 10 (11e ligne) avec la dernière ligne (doit marcher pour un vecteur et une matrice)"
   ]
  },
  {
   "cell_type": "code",
   "execution_count": 10,
   "metadata": {},
   "outputs": [],
   "source": [
    "def swap_ten_and_last(array):\n",
    "    array[[-1,10]] = array[[10,-1]]\n",
    "    return array"
   ]
  },
  {
   "cell_type": "code",
   "execution_count": 11,
   "metadata": {},
   "outputs": [
    {
     "name": "stdout",
     "output_type": "stream",
     "text": [
      "[ 0  1  2  3  4  5  6  7  8  9 49 11 12 13 14 15 16 17 18 19 20 21 22 23\n",
      " 24 25 26 27 28 29 30 31 32 33 34 35 36 37 38 39 40 41 42 43 44 45 46 47\n",
      " 48 10]\n",
      "[[ 0  1  2  3  4]\n",
      " [ 5  6  7  8  9]\n",
      " [10 11 12 13 14]\n",
      " [15 16 17 18 19]\n",
      " [20 21 22 23 24]\n",
      " [25 26 27 28 29]\n",
      " [30 31 32 33 34]\n",
      " [35 36 37 38 39]\n",
      " [40 41 42 43 44]\n",
      " [45 46 47 48 49]\n",
      " [95 96 97 98 99]\n",
      " [55 56 57 58 59]\n",
      " [60 61 62 63 64]\n",
      " [65 66 67 68 69]\n",
      " [70 71 72 73 74]\n",
      " [75 76 77 78 79]\n",
      " [80 81 82 83 84]\n",
      " [85 86 87 88 89]\n",
      " [90 91 92 93 94]\n",
      " [50 51 52 53 54]]\n"
     ]
    }
   ],
   "source": [
    "# Pas de assert mais vérifiez le résultat!\n",
    "\n",
    "a = np.arange(50)\n",
    "b = np.arange(100).reshape((20,5))\n",
    "\n",
    "print(swap_ten_and_last(a))\n",
    "print(swap_ten_and_last(b))"
   ]
  },
  {
   "cell_type": "markdown",
   "metadata": {},
   "source": [
    "Fonction \"create_random_plus_2\" qui créé une matrice de nombres aléatoires (taille donnée en entrée) puis que l'on multiplie par deux"
   ]
  },
  {
   "cell_type": "code",
   "execution_count": 12,
   "metadata": {},
   "outputs": [],
   "source": [
    "#Fonction \"create_random_plus_2\" qui créé une matrice de nombres aléatoires (taille donnée en entrée) puis que l'on multiplie par deux -> print(create_random_plus_2(5,5))\n",
    "\n",
    "def create_random_plus_2(n,m):\n",
    "    return np.random.rand(n,m)*2"
   ]
  },
  {
   "cell_type": "code",
   "execution_count": 13,
   "metadata": {},
   "outputs": [
    {
     "name": "stdout",
     "output_type": "stream",
     "text": [
      "[[0.4601781  0.56091711 1.38508524 1.76833861 1.69718051]\n",
      " [0.76861545 0.28661636 0.4300703  0.47994861 0.83087805]\n",
      " [0.48552992 1.20680542 1.85885471 0.48358728 1.80845406]\n",
      " [1.55977144 1.17406533 1.64370228 1.03215597 0.76714889]\n",
      " [0.21271844 0.14745355 1.22769233 0.61928858 0.56321523]]\n",
      "[[0.47935554 0.03806612 1.78196521 ... 1.80094929 0.18839771 1.32097698]\n",
      " [1.54141485 1.90798765 1.78130388 ... 0.95345733 0.86766583 1.66165706]\n",
      " [1.07170745 1.86944117 1.55108666 ... 1.41540525 1.39657678 1.55791171]\n",
      " ...\n",
      " [0.84936499 0.10348377 0.06329155 ... 0.39711292 1.00817612 1.83954837]\n",
      " [0.58563394 1.52940488 1.66363963 ... 1.51423212 1.04332426 1.45928118]\n",
      " [1.15179421 1.26671822 1.09341243 ... 0.76127948 1.95581665 0.81442198]]\n"
     ]
    }
   ],
   "source": [
    "# Pas de assert, mais vérifiez quand même!\n",
    "print(create_random_plus_2(5,5))\n",
    "print(create_random_plus_2(100,20))"
   ]
  },
  {
   "cell_type": "markdown",
   "metadata": {},
   "source": [
    "Fonction \"center_data\" qui centre les données (pour chaque élément dans chaque colonne, on lui soustrait la moyenne de sa colonne)"
   ]
  },
  {
   "cell_type": "code",
   "execution_count": 14,
   "metadata": {},
   "outputs": [],
   "source": [
    "def center_data(array):\n",
    "    return array - array.mean(axis=0)"
   ]
  },
  {
   "cell_type": "code",
   "execution_count": 15,
   "metadata": {},
   "outputs": [
    {
     "name": "stdout",
     "output_type": "stream",
     "text": [
      "C'est ok\n"
     ]
    }
   ],
   "source": [
    "data = np.arange(100).reshape(5,20)\n",
    "data2 = np.arange(100).reshape(20,5)\n",
    "\n",
    "\n",
    "assert np.all(np.equal(center_data(data).mean(axis=0), 0))\n",
    "assert np.all(np.equal(center_data(data2).mean(axis=0), 0))\n",
    "print(\"C'est ok\")"
   ]
  },
  {
   "cell_type": "markdown",
   "metadata": {},
   "source": [
    "## Pandas"
   ]
  },
  {
   "cell_type": "markdown",
   "metadata": {},
   "source": [
    "Le but de cette partie de TD est de récupérer des informations sur les États Américains et jouer un peu avec ces données.\n",
    "L’idée est de vous montrer quelques étapes de traitement classique avec Pandas.\n",
    "\n",
    "Si vous vous souvenez de vos cours de Bases de Données, cela devrait aider. Sinon, ça n’est pas un pré-requis.\n",
    "\n",
    "Vous allez voir que pour récupérer la densité pour chaque état par décennie par exemple, le nombre d’étapes est assez conséquent.  \n",
    "Mais lorsque vous aurez plus l’habitude, ces étapes seront bien plus évidentes pour vous."
   ]
  },
  {
   "cell_type": "code",
   "execution_count": 16,
   "metadata": {},
   "outputs": [],
   "source": [
    "import pandas as pd\n",
    "import numpy as np"
   ]
  },
  {
   "cell_type": "markdown",
   "metadata": {},
   "source": [
    "Charger le jeu de données data/state-abbrevs.csv  \n",
    "Utilisez la fonction : **pandas.read_csv** : https://pandas.pydata.org/docs/reference/api/pandas.read_csv.html\n",
    "\n",
    "Que se passe t’il si vous laissez les paramètres de read_csv par défault ?  \n",
    "Faites attention à bien changer le séparateur pour que le fichier soit bien chargé.\n",
    "\n",
    "Affichez ensuite les 6 derniers états par ordre alphabétique."
   ]
  },
  {
   "cell_type": "code",
   "execution_count": 17,
   "metadata": {},
   "outputs": [
    {
     "data": {
      "text/html": [
       "<div>\n",
       "<style scoped>\n",
       "    .dataframe tbody tr th:only-of-type {\n",
       "        vertical-align: middle;\n",
       "    }\n",
       "\n",
       "    .dataframe tbody tr th {\n",
       "        vertical-align: top;\n",
       "    }\n",
       "\n",
       "    .dataframe thead th {\n",
       "        text-align: right;\n",
       "    }\n",
       "</style>\n",
       "<table border=\"1\" class=\"dataframe\">\n",
       "  <thead>\n",
       "    <tr style=\"text-align: right;\">\n",
       "      <th></th>\n",
       "      <th>state</th>\n",
       "      <th>abbreviation</th>\n",
       "    </tr>\n",
       "  </thead>\n",
       "  <tbody>\n",
       "    <tr>\n",
       "      <th>0</th>\n",
       "      <td>Alabama</td>\n",
       "      <td>AL</td>\n",
       "    </tr>\n",
       "    <tr>\n",
       "      <th>1</th>\n",
       "      <td>Alaska</td>\n",
       "      <td>AK</td>\n",
       "    </tr>\n",
       "    <tr>\n",
       "      <th>2</th>\n",
       "      <td>Arizona</td>\n",
       "      <td>AZ</td>\n",
       "    </tr>\n",
       "    <tr>\n",
       "      <th>3</th>\n",
       "      <td>Arkansas</td>\n",
       "      <td>AR</td>\n",
       "    </tr>\n",
       "    <tr>\n",
       "      <th>4</th>\n",
       "      <td>California</td>\n",
       "      <td>CA</td>\n",
       "    </tr>\n",
       "    <tr>\n",
       "      <th>5</th>\n",
       "      <td>Colorado</td>\n",
       "      <td>CO</td>\n",
       "    </tr>\n",
       "  </tbody>\n",
       "</table>\n",
       "</div>"
      ],
      "text/plain": [
       "        state abbreviation\n",
       "0     Alabama           AL\n",
       "1      Alaska           AK\n",
       "2     Arizona           AZ\n",
       "3    Arkansas           AR\n",
       "4  California           CA\n",
       "5    Colorado           CO"
      ]
     },
     "execution_count": 17,
     "metadata": {},
     "output_type": "execute_result"
    }
   ],
   "source": [
    "df_abbrevs = pd.read_csv(\"data/state-abbrevs.csv\", sep=\";\")\n",
    "df_abbrevs[:6]"
   ]
  },
  {
   "cell_type": "markdown",
   "metadata": {},
   "source": [
    "Charger les deux autres jeux de données sur les USA (population, areas)"
   ]
  },
  {
   "cell_type": "code",
   "execution_count": 18,
   "metadata": {},
   "outputs": [],
   "source": [
    "df_population = pd.read_csv(\"data/state-population.csv\", sep=\",\")\n",
    "df_areas = pd.read_csv(\"data/state-areas.csv\", sep=\",\")"
   ]
  },
  {
   "cell_type": "markdown",
   "metadata": {},
   "source": [
    "Rassembler le nom de l’état et sa population avec **pandas.merge** : https://pandas.pydata.org/docs/reference/api/pandas.DataFrame.merge.html  \n",
    "Attention à bien préciser left_on et right_on\n",
    "\n",
    "Que se passe t’il si vous utilisez l’option 'how=\"outer\"' et 'how=\"inner\"' ?  \n",
    "(Indice : regardez les 'state/region', que constatez-vous ?)\n",
    "\n",
    "Pour la suite, on utilisera 'outer'"
   ]
  },
  {
   "cell_type": "code",
   "execution_count": 19,
   "metadata": {},
   "outputs": [],
   "source": [
    "df_merged = pd.merge(df_abbrevs, df_population, left_on=\"abbreviation\", right_on=\"state/region\")"
   ]
  },
  {
   "cell_type": "markdown",
   "metadata": {},
   "source": [
    "Affichez le nom complet de tous les états (chaque état ne doit apparaître qu’une seule fois)  \n",
    "Utilisez la fonction DataFrame.unique()"
   ]
  },
  {
   "cell_type": "code",
   "execution_count": 20,
   "metadata": {},
   "outputs": [
    {
     "data": {
      "text/plain": [
       "array(['Alabama', 'Alaska', 'Arizona', 'Arkansas', 'California',\n",
       "       'Colorado', 'Connecticut', 'Delaware', 'District of Columbia',\n",
       "       'Florida', 'Georgia', 'Hawaii', 'Idaho', 'Illinois', 'Indiana',\n",
       "       'Iowa', 'Kansas', 'Kentucky', 'Louisiana', 'Maine', 'Montana',\n",
       "       'Nebraska', 'Nevada', 'New Hampshire', 'New Jersey', 'New Mexico',\n",
       "       'New York', 'North Carolina', 'North Dakota', 'Ohio', 'Oklahoma',\n",
       "       'Oregon', 'Maryland', 'Massachusetts', 'Michigan', 'Minnesota',\n",
       "       'Mississippi', 'Missouri', 'Pennsylvania', 'Rhode Island',\n",
       "       'South Carolina', 'South Dakota', 'Tennessee', 'Texas', 'Utah',\n",
       "       'Vermont', 'Virginia', 'Washington', 'West Virginia', 'Wisconsin',\n",
       "       'Wyoming'], dtype=object)"
      ]
     },
     "execution_count": 20,
     "metadata": {},
     "output_type": "execute_result"
    }
   ],
   "source": [
    "df_merged['state'].unique()"
   ]
  },
  {
   "cell_type": "markdown",
   "metadata": {},
   "source": [
    "Supprimer l’abréviation (qui doit apparaître deux fois à cause du merge, l’autre étant dans 'state/region')"
   ]
  },
  {
   "cell_type": "code",
   "execution_count": 21,
   "metadata": {},
   "outputs": [
    {
     "data": {
      "text/html": [
       "<div>\n",
       "<style scoped>\n",
       "    .dataframe tbody tr th:only-of-type {\n",
       "        vertical-align: middle;\n",
       "    }\n",
       "\n",
       "    .dataframe tbody tr th {\n",
       "        vertical-align: top;\n",
       "    }\n",
       "\n",
       "    .dataframe thead th {\n",
       "        text-align: right;\n",
       "    }\n",
       "</style>\n",
       "<table border=\"1\" class=\"dataframe\">\n",
       "  <thead>\n",
       "    <tr style=\"text-align: right;\">\n",
       "      <th></th>\n",
       "      <th>state</th>\n",
       "      <th>state/region</th>\n",
       "      <th>ages</th>\n",
       "      <th>year</th>\n",
       "      <th>population</th>\n",
       "    </tr>\n",
       "  </thead>\n",
       "  <tbody>\n",
       "    <tr>\n",
       "      <th>0</th>\n",
       "      <td>Alabama</td>\n",
       "      <td>AL</td>\n",
       "      <td>under18</td>\n",
       "      <td>2012</td>\n",
       "      <td>1117489.0</td>\n",
       "    </tr>\n",
       "    <tr>\n",
       "      <th>1</th>\n",
       "      <td>Alabama</td>\n",
       "      <td>AL</td>\n",
       "      <td>total</td>\n",
       "      <td>2012</td>\n",
       "      <td>4817528.0</td>\n",
       "    </tr>\n",
       "    <tr>\n",
       "      <th>2</th>\n",
       "      <td>Alabama</td>\n",
       "      <td>AL</td>\n",
       "      <td>under18</td>\n",
       "      <td>2010</td>\n",
       "      <td>1130966.0</td>\n",
       "    </tr>\n",
       "    <tr>\n",
       "      <th>3</th>\n",
       "      <td>Alabama</td>\n",
       "      <td>AL</td>\n",
       "      <td>total</td>\n",
       "      <td>2010</td>\n",
       "      <td>4785570.0</td>\n",
       "    </tr>\n",
       "    <tr>\n",
       "      <th>4</th>\n",
       "      <td>Alabama</td>\n",
       "      <td>AL</td>\n",
       "      <td>under18</td>\n",
       "      <td>2011</td>\n",
       "      <td>1125763.0</td>\n",
       "    </tr>\n",
       "    <tr>\n",
       "      <th>...</th>\n",
       "      <td>...</td>\n",
       "      <td>...</td>\n",
       "      <td>...</td>\n",
       "      <td>...</td>\n",
       "      <td>...</td>\n",
       "    </tr>\n",
       "    <tr>\n",
       "      <th>2443</th>\n",
       "      <td>Wyoming</td>\n",
       "      <td>WY</td>\n",
       "      <td>under18</td>\n",
       "      <td>1993</td>\n",
       "      <td>137458.0</td>\n",
       "    </tr>\n",
       "    <tr>\n",
       "      <th>2444</th>\n",
       "      <td>Wyoming</td>\n",
       "      <td>WY</td>\n",
       "      <td>total</td>\n",
       "      <td>1991</td>\n",
       "      <td>459260.0</td>\n",
       "    </tr>\n",
       "    <tr>\n",
       "      <th>2445</th>\n",
       "      <td>Wyoming</td>\n",
       "      <td>WY</td>\n",
       "      <td>under18</td>\n",
       "      <td>1991</td>\n",
       "      <td>136720.0</td>\n",
       "    </tr>\n",
       "    <tr>\n",
       "      <th>2446</th>\n",
       "      <td>Wyoming</td>\n",
       "      <td>WY</td>\n",
       "      <td>under18</td>\n",
       "      <td>1990</td>\n",
       "      <td>136078.0</td>\n",
       "    </tr>\n",
       "    <tr>\n",
       "      <th>2447</th>\n",
       "      <td>Wyoming</td>\n",
       "      <td>WY</td>\n",
       "      <td>total</td>\n",
       "      <td>1990</td>\n",
       "      <td>453690.0</td>\n",
       "    </tr>\n",
       "  </tbody>\n",
       "</table>\n",
       "<p>2448 rows × 5 columns</p>\n",
       "</div>"
      ],
      "text/plain": [
       "        state state/region     ages  year  population\n",
       "0     Alabama           AL  under18  2012   1117489.0\n",
       "1     Alabama           AL    total  2012   4817528.0\n",
       "2     Alabama           AL  under18  2010   1130966.0\n",
       "3     Alabama           AL    total  2010   4785570.0\n",
       "4     Alabama           AL  under18  2011   1125763.0\n",
       "...       ...          ...      ...   ...         ...\n",
       "2443  Wyoming           WY  under18  1993    137458.0\n",
       "2444  Wyoming           WY    total  1991    459260.0\n",
       "2445  Wyoming           WY  under18  1991    136720.0\n",
       "2446  Wyoming           WY  under18  1990    136078.0\n",
       "2447  Wyoming           WY    total  1990    453690.0\n",
       "\n",
       "[2448 rows x 5 columns]"
      ]
     },
     "execution_count": 21,
     "metadata": {},
     "output_type": "execute_result"
    }
   ],
   "source": [
    "df_merged.drop('abbreviation', axis=1)"
   ]
  },
  {
   "cell_type": "markdown",
   "metadata": {},
   "source": [
    "Combien d’états n’ont pas leur population d’indiquée ? \n",
    "Utilisez la fonction DataFrame.isnull"
   ]
  },
  {
   "cell_type": "code",
   "execution_count": 22,
   "metadata": {},
   "outputs": [
    {
     "data": {
      "text/plain": [
       "0"
      ]
     },
     "execution_count": 22,
     "metadata": {},
     "output_type": "execute_result"
    }
   ],
   "source": [
    "null_population = df_merged['population'].isnull().sum()\n",
    "null_population"
   ]
  },
  {
   "cell_type": "markdown",
   "metadata": {},
   "source": [
    "On constate que PR et USA n’existent que sous forme d’abréviation, rajouter dans le tableau \"Puerto Rico\" et \"United States\" dans la colonne \"state\""
   ]
  },
  {
   "cell_type": "code",
   "execution_count": 23,
   "metadata": {},
   "outputs": [
    {
     "name": "stdout",
     "output_type": "stream",
     "text": [
      "            state abbreviation\n",
      "48  West Virginia           WV\n",
      "49      Wisconsin           WI\n",
      "50        Wyoming           WY\n",
      "51    Puerto Rico           PR\n",
      "52  United States          USA\n"
     ]
    },
    {
     "data": {
      "text/html": [
       "<div>\n",
       "<style scoped>\n",
       "    .dataframe tbody tr th:only-of-type {\n",
       "        vertical-align: middle;\n",
       "    }\n",
       "\n",
       "    .dataframe tbody tr th {\n",
       "        vertical-align: top;\n",
       "    }\n",
       "\n",
       "    .dataframe thead th {\n",
       "        text-align: right;\n",
       "    }\n",
       "</style>\n",
       "<table border=\"1\" class=\"dataframe\">\n",
       "  <thead>\n",
       "    <tr style=\"text-align: right;\">\n",
       "      <th></th>\n",
       "      <th>state</th>\n",
       "      <th>state/region</th>\n",
       "      <th>ages</th>\n",
       "      <th>year</th>\n",
       "      <th>population</th>\n",
       "    </tr>\n",
       "  </thead>\n",
       "  <tbody>\n",
       "    <tr>\n",
       "      <th>0</th>\n",
       "      <td>Alabama</td>\n",
       "      <td>AL</td>\n",
       "      <td>under18</td>\n",
       "      <td>2012</td>\n",
       "      <td>1117489.0</td>\n",
       "    </tr>\n",
       "    <tr>\n",
       "      <th>1</th>\n",
       "      <td>Alabama</td>\n",
       "      <td>AL</td>\n",
       "      <td>total</td>\n",
       "      <td>2012</td>\n",
       "      <td>4817528.0</td>\n",
       "    </tr>\n",
       "    <tr>\n",
       "      <th>2</th>\n",
       "      <td>Alabama</td>\n",
       "      <td>AL</td>\n",
       "      <td>under18</td>\n",
       "      <td>2010</td>\n",
       "      <td>1130966.0</td>\n",
       "    </tr>\n",
       "    <tr>\n",
       "      <th>3</th>\n",
       "      <td>Alabama</td>\n",
       "      <td>AL</td>\n",
       "      <td>total</td>\n",
       "      <td>2010</td>\n",
       "      <td>4785570.0</td>\n",
       "    </tr>\n",
       "    <tr>\n",
       "      <th>4</th>\n",
       "      <td>Alabama</td>\n",
       "      <td>AL</td>\n",
       "      <td>under18</td>\n",
       "      <td>2011</td>\n",
       "      <td>1125763.0</td>\n",
       "    </tr>\n",
       "    <tr>\n",
       "      <th>...</th>\n",
       "      <td>...</td>\n",
       "      <td>...</td>\n",
       "      <td>...</td>\n",
       "      <td>...</td>\n",
       "      <td>...</td>\n",
       "    </tr>\n",
       "    <tr>\n",
       "      <th>2539</th>\n",
       "      <td>United States</td>\n",
       "      <td>USA</td>\n",
       "      <td>total</td>\n",
       "      <td>2010</td>\n",
       "      <td>309326295.0</td>\n",
       "    </tr>\n",
       "    <tr>\n",
       "      <th>2540</th>\n",
       "      <td>United States</td>\n",
       "      <td>USA</td>\n",
       "      <td>under18</td>\n",
       "      <td>2011</td>\n",
       "      <td>73902222.0</td>\n",
       "    </tr>\n",
       "    <tr>\n",
       "      <th>2541</th>\n",
       "      <td>United States</td>\n",
       "      <td>USA</td>\n",
       "      <td>total</td>\n",
       "      <td>2011</td>\n",
       "      <td>311582564.0</td>\n",
       "    </tr>\n",
       "    <tr>\n",
       "      <th>2542</th>\n",
       "      <td>United States</td>\n",
       "      <td>USA</td>\n",
       "      <td>under18</td>\n",
       "      <td>2012</td>\n",
       "      <td>73708179.0</td>\n",
       "    </tr>\n",
       "    <tr>\n",
       "      <th>2543</th>\n",
       "      <td>United States</td>\n",
       "      <td>USA</td>\n",
       "      <td>total</td>\n",
       "      <td>2012</td>\n",
       "      <td>313873685.0</td>\n",
       "    </tr>\n",
       "  </tbody>\n",
       "</table>\n",
       "<p>2544 rows × 5 columns</p>\n",
       "</div>"
      ],
      "text/plain": [
       "              state state/region     ages  year   population\n",
       "0           Alabama           AL  under18  2012    1117489.0\n",
       "1           Alabama           AL    total  2012    4817528.0\n",
       "2           Alabama           AL  under18  2010    1130966.0\n",
       "3           Alabama           AL    total  2010    4785570.0\n",
       "4           Alabama           AL  under18  2011    1125763.0\n",
       "...             ...          ...      ...   ...          ...\n",
       "2539  United States          USA    total  2010  309326295.0\n",
       "2540  United States          USA  under18  2011   73902222.0\n",
       "2541  United States          USA    total  2011  311582564.0\n",
       "2542  United States          USA  under18  2012   73708179.0\n",
       "2543  United States          USA    total  2012  313873685.0\n",
       "\n",
       "[2544 rows x 5 columns]"
      ]
     },
     "execution_count": 23,
     "metadata": {},
     "output_type": "execute_result"
    }
   ],
   "source": [
    "new_rows = pd.DataFrame({\n",
    "    'abbreviation': ['PR', 'USA'],\n",
    "    'state': ['Puerto Rico', 'United States']\n",
    "})\n",
    "\n",
    "# Concatenate the new rows to the existing DataFrame\n",
    "df_abbrevs = pd.concat([df_abbrevs, new_rows], ignore_index=True)\n",
    "print(df_abbrevs.tail())\n",
    "\n",
    "df_merged = pd.merge(df_abbrevs, df_population, left_on=\"abbreviation\", right_on=\"state/region\")\n",
    "df_merged.drop('abbreviation', axis=1)"
   ]
  },
  {
   "cell_type": "markdown",
   "metadata": {},
   "source": [
    "Rajouter la superficie \"area (sq. mi)\" qui se trouve dans le csv state-areas.csv"
   ]
  },
  {
   "cell_type": "code",
   "execution_count": 24,
   "metadata": {},
   "outputs": [
    {
     "data": {
      "text/html": [
       "<div>\n",
       "<style scoped>\n",
       "    .dataframe tbody tr th:only-of-type {\n",
       "        vertical-align: middle;\n",
       "    }\n",
       "\n",
       "    .dataframe tbody tr th {\n",
       "        vertical-align: top;\n",
       "    }\n",
       "\n",
       "    .dataframe thead th {\n",
       "        text-align: right;\n",
       "    }\n",
       "</style>\n",
       "<table border=\"1\" class=\"dataframe\">\n",
       "  <thead>\n",
       "    <tr style=\"text-align: right;\">\n",
       "      <th></th>\n",
       "      <th>state</th>\n",
       "      <th>abbreviation</th>\n",
       "      <th>state/region</th>\n",
       "      <th>ages</th>\n",
       "      <th>year</th>\n",
       "      <th>population</th>\n",
       "      <th>area (sq. mi)</th>\n",
       "    </tr>\n",
       "  </thead>\n",
       "  <tbody>\n",
       "    <tr>\n",
       "      <th>0</th>\n",
       "      <td>Alabama</td>\n",
       "      <td>AL</td>\n",
       "      <td>AL</td>\n",
       "      <td>under18</td>\n",
       "      <td>2012</td>\n",
       "      <td>1117489.0</td>\n",
       "      <td>52423.0</td>\n",
       "    </tr>\n",
       "    <tr>\n",
       "      <th>1</th>\n",
       "      <td>Alabama</td>\n",
       "      <td>AL</td>\n",
       "      <td>AL</td>\n",
       "      <td>total</td>\n",
       "      <td>2012</td>\n",
       "      <td>4817528.0</td>\n",
       "      <td>52423.0</td>\n",
       "    </tr>\n",
       "    <tr>\n",
       "      <th>2</th>\n",
       "      <td>Alabama</td>\n",
       "      <td>AL</td>\n",
       "      <td>AL</td>\n",
       "      <td>under18</td>\n",
       "      <td>2010</td>\n",
       "      <td>1130966.0</td>\n",
       "      <td>52423.0</td>\n",
       "    </tr>\n",
       "    <tr>\n",
       "      <th>3</th>\n",
       "      <td>Alabama</td>\n",
       "      <td>AL</td>\n",
       "      <td>AL</td>\n",
       "      <td>total</td>\n",
       "      <td>2010</td>\n",
       "      <td>4785570.0</td>\n",
       "      <td>52423.0</td>\n",
       "    </tr>\n",
       "    <tr>\n",
       "      <th>4</th>\n",
       "      <td>Alabama</td>\n",
       "      <td>AL</td>\n",
       "      <td>AL</td>\n",
       "      <td>under18</td>\n",
       "      <td>2011</td>\n",
       "      <td>1125763.0</td>\n",
       "      <td>52423.0</td>\n",
       "    </tr>\n",
       "  </tbody>\n",
       "</table>\n",
       "</div>"
      ],
      "text/plain": [
       "     state abbreviation state/region     ages  year  population  area (sq. mi)\n",
       "0  Alabama           AL           AL  under18  2012   1117489.0        52423.0\n",
       "1  Alabama           AL           AL    total  2012   4817528.0        52423.0\n",
       "2  Alabama           AL           AL  under18  2010   1130966.0        52423.0\n",
       "3  Alabama           AL           AL    total  2010   4785570.0        52423.0\n",
       "4  Alabama           AL           AL  under18  2011   1125763.0        52423.0"
      ]
     },
     "execution_count": 24,
     "metadata": {},
     "output_type": "execute_result"
    }
   ],
   "source": [
    "df_merged = pd.merge(df_merged, df_areas, left_on='state', right_on='state', how='left')\n",
    "df_merged.drop('abbreviation', axis=1)\n",
    "df_merged.head()"
   ]
  },
  {
   "cell_type": "markdown",
   "metadata": {},
   "source": [
    "Calculer la densite par état (va se faire pour tous les âges et toutes les années normalement)"
   ]
  },
  {
   "cell_type": "code",
   "execution_count": 25,
   "metadata": {},
   "outputs": [
    {
     "data": {
      "text/html": [
       "<div>\n",
       "<style scoped>\n",
       "    .dataframe tbody tr th:only-of-type {\n",
       "        vertical-align: middle;\n",
       "    }\n",
       "\n",
       "    .dataframe tbody tr th {\n",
       "        vertical-align: top;\n",
       "    }\n",
       "\n",
       "    .dataframe thead th {\n",
       "        text-align: right;\n",
       "    }\n",
       "</style>\n",
       "<table border=\"1\" class=\"dataframe\">\n",
       "  <thead>\n",
       "    <tr style=\"text-align: right;\">\n",
       "      <th></th>\n",
       "      <th>state</th>\n",
       "      <th>abbreviation</th>\n",
       "      <th>state/region</th>\n",
       "      <th>ages</th>\n",
       "      <th>year</th>\n",
       "      <th>population</th>\n",
       "      <th>area (sq. mi)</th>\n",
       "      <th>densite</th>\n",
       "    </tr>\n",
       "  </thead>\n",
       "  <tbody>\n",
       "    <tr>\n",
       "      <th>0</th>\n",
       "      <td>Alabama</td>\n",
       "      <td>AL</td>\n",
       "      <td>AL</td>\n",
       "      <td>under18</td>\n",
       "      <td>2012</td>\n",
       "      <td>1117489.0</td>\n",
       "      <td>52423.0</td>\n",
       "      <td>21.316769</td>\n",
       "    </tr>\n",
       "    <tr>\n",
       "      <th>1</th>\n",
       "      <td>Alabama</td>\n",
       "      <td>AL</td>\n",
       "      <td>AL</td>\n",
       "      <td>total</td>\n",
       "      <td>2012</td>\n",
       "      <td>4817528.0</td>\n",
       "      <td>52423.0</td>\n",
       "      <td>91.897221</td>\n",
       "    </tr>\n",
       "    <tr>\n",
       "      <th>2</th>\n",
       "      <td>Alabama</td>\n",
       "      <td>AL</td>\n",
       "      <td>AL</td>\n",
       "      <td>under18</td>\n",
       "      <td>2010</td>\n",
       "      <td>1130966.0</td>\n",
       "      <td>52423.0</td>\n",
       "      <td>21.573851</td>\n",
       "    </tr>\n",
       "    <tr>\n",
       "      <th>3</th>\n",
       "      <td>Alabama</td>\n",
       "      <td>AL</td>\n",
       "      <td>AL</td>\n",
       "      <td>total</td>\n",
       "      <td>2010</td>\n",
       "      <td>4785570.0</td>\n",
       "      <td>52423.0</td>\n",
       "      <td>91.287603</td>\n",
       "    </tr>\n",
       "    <tr>\n",
       "      <th>4</th>\n",
       "      <td>Alabama</td>\n",
       "      <td>AL</td>\n",
       "      <td>AL</td>\n",
       "      <td>under18</td>\n",
       "      <td>2011</td>\n",
       "      <td>1125763.0</td>\n",
       "      <td>52423.0</td>\n",
       "      <td>21.474601</td>\n",
       "    </tr>\n",
       "  </tbody>\n",
       "</table>\n",
       "</div>"
      ],
      "text/plain": [
       "     state abbreviation state/region     ages  year  population  \\\n",
       "0  Alabama           AL           AL  under18  2012   1117489.0   \n",
       "1  Alabama           AL           AL    total  2012   4817528.0   \n",
       "2  Alabama           AL           AL  under18  2010   1130966.0   \n",
       "3  Alabama           AL           AL    total  2010   4785570.0   \n",
       "4  Alabama           AL           AL  under18  2011   1125763.0   \n",
       "\n",
       "   area (sq. mi)    densite  \n",
       "0        52423.0  21.316769  \n",
       "1        52423.0  91.897221  \n",
       "2        52423.0  21.573851  \n",
       "3        52423.0  91.287603  \n",
       "4        52423.0  21.474601  "
      ]
     },
     "execution_count": 25,
     "metadata": {},
     "output_type": "execute_result"
    }
   ],
   "source": [
    "df_merged['densite'] = df_merged['population'] / df_merged['area (sq. mi)']\n",
    "df_merged.head()"
   ]
  },
  {
   "cell_type": "markdown",
   "metadata": {},
   "source": [
    "Quel est l’état le moins peuplé en 2010, tous âges confondus ? Quel est l’état avec la densité la plus importante (toujours en 2010, tous âges confondus) ?  \n",
    "(Attention aux valeurs manquantes !)"
   ]
  },
  {
   "cell_type": "code",
   "execution_count": 26,
   "metadata": {},
   "outputs": [
    {
     "data": {
      "text/plain": [
       "state             Wyoming\n",
       "abbreviation           WY\n",
       "state/region           WY\n",
       "ages                total\n",
       "year                 2010\n",
       "population       564222.0\n",
       "area (sq. mi)     97818.0\n",
       "densite          5.768079\n",
       "Name: 2405, dtype: object"
      ]
     },
     "execution_count": 26,
     "metadata": {},
     "output_type": "execute_result"
    }
   ],
   "source": [
    "df_2010 = df_merged[(df_merged['year'] == 2010) & (df_merged['ages'] == 'total')]\n",
    "df_2010 = df_2010.dropna(subset=['population', 'area (sq. mi)'])\n",
    "least_populated_state = df_2010.loc[df_2010['population'].idxmin()]\n",
    "least_populated_state"
   ]
  },
  {
   "cell_type": "markdown",
   "metadata": {},
   "source": [
    "## Pandas Group, Matplotlib et Seaborn\n",
    "\n",
    "On va passer sur un autre jeu de données pour refaire un peu de pandas et des groupby et ensuite faire des affichages avec Matplotlib et Seaborn"
   ]
  },
  {
   "cell_type": "code",
   "execution_count": 27,
   "metadata": {},
   "outputs": [],
   "source": [
    "import pandas as pd \n",
    "import matplotlib.pyplot as plt \n",
    "import seaborn as sns\n",
    "\n",
    "sns.set_style(\"darkgrid\")\n",
    "sns.set_palette(\"colorblind\") # On pense aux gens qui sont daltoniens !\n",
    "\n",
    "current_colors = sns.palettes.color_palette()"
   ]
  },
  {
   "cell_type": "markdown",
   "metadata": {},
   "source": [
    "Ouvrir les données Tallo.csv"
   ]
  },
  {
   "cell_type": "code",
   "execution_count": 28,
   "metadata": {},
   "outputs": [],
   "source": [
    "df = pd.read_csv(\"data/Tallo.csv\",sep=\",\")"
   ]
  },
  {
   "cell_type": "markdown",
   "metadata": {},
   "source": [
    "Afficher le résumé des diverses stats à l’aide de la fonction describe()"
   ]
  },
  {
   "cell_type": "code",
   "execution_count": 29,
   "metadata": {},
   "outputs": [
    {
     "data": {
      "text/html": [
       "<div>\n",
       "<style scoped>\n",
       "    .dataframe tbody tr th:only-of-type {\n",
       "        vertical-align: middle;\n",
       "    }\n",
       "\n",
       "    .dataframe tbody tr th {\n",
       "        vertical-align: top;\n",
       "    }\n",
       "\n",
       "    .dataframe thead th {\n",
       "        text-align: right;\n",
       "    }\n",
       "</style>\n",
       "<table border=\"1\" class=\"dataframe\">\n",
       "  <thead>\n",
       "    <tr style=\"text-align: right;\">\n",
       "      <th></th>\n",
       "      <th>latitude</th>\n",
       "      <th>longitude</th>\n",
       "      <th>stem_diameter_cm</th>\n",
       "      <th>height_m</th>\n",
       "      <th>crown_radius_m</th>\n",
       "      <th>reference_id</th>\n",
       "    </tr>\n",
       "  </thead>\n",
       "  <tbody>\n",
       "    <tr>\n",
       "      <th>count</th>\n",
       "      <td>498838.000000</td>\n",
       "      <td>498838.000000</td>\n",
       "      <td>498838.000000</td>\n",
       "      <td>497335.000000</td>\n",
       "      <td>312829.000000</td>\n",
       "      <td>498838.000000</td>\n",
       "    </tr>\n",
       "    <tr>\n",
       "      <th>mean</th>\n",
       "      <td>19.698823</td>\n",
       "      <td>21.959141</td>\n",
       "      <td>20.325298</td>\n",
       "      <td>12.337553</td>\n",
       "      <td>2.151126</td>\n",
       "      <td>37.107698</td>\n",
       "    </tr>\n",
       "    <tr>\n",
       "      <th>std</th>\n",
       "      <td>25.165503</td>\n",
       "      <td>82.313046</td>\n",
       "      <td>19.316761</td>\n",
       "      <td>8.769326</td>\n",
       "      <td>1.549920</td>\n",
       "      <td>18.660853</td>\n",
       "    </tr>\n",
       "    <tr>\n",
       "      <th>min</th>\n",
       "      <td>-51.560000</td>\n",
       "      <td>-155.324000</td>\n",
       "      <td>1.000000</td>\n",
       "      <td>1.300000</td>\n",
       "      <td>0.050000</td>\n",
       "      <td>1.000000</td>\n",
       "    </tr>\n",
       "    <tr>\n",
       "      <th>25%</th>\n",
       "      <td>3.360000</td>\n",
       "      <td>-52.352000</td>\n",
       "      <td>9.000000</td>\n",
       "      <td>6.000000</td>\n",
       "      <td>1.050000</td>\n",
       "      <td>29.000000</td>\n",
       "    </tr>\n",
       "    <tr>\n",
       "      <th>50%</th>\n",
       "      <td>20.055000</td>\n",
       "      <td>9.065000</td>\n",
       "      <td>15.000000</td>\n",
       "      <td>10.000000</td>\n",
       "      <td>1.750000</td>\n",
       "      <td>35.000000</td>\n",
       "    </tr>\n",
       "    <tr>\n",
       "      <th>75%</th>\n",
       "      <td>40.550000</td>\n",
       "      <td>109.065000</td>\n",
       "      <td>26.000000</td>\n",
       "      <td>16.400000</td>\n",
       "      <td>2.750000</td>\n",
       "      <td>55.000000</td>\n",
       "    </tr>\n",
       "    <tr>\n",
       "      <th>max</th>\n",
       "      <td>69.880000</td>\n",
       "      <td>177.030000</td>\n",
       "      <td>770.000000</td>\n",
       "      <td>115.800000</td>\n",
       "      <td>24.250000</td>\n",
       "      <td>69.000000</td>\n",
       "    </tr>\n",
       "  </tbody>\n",
       "</table>\n",
       "</div>"
      ],
      "text/plain": [
       "            latitude      longitude  stem_diameter_cm       height_m  \\\n",
       "count  498838.000000  498838.000000     498838.000000  497335.000000   \n",
       "mean       19.698823      21.959141         20.325298      12.337553   \n",
       "std        25.165503      82.313046         19.316761       8.769326   \n",
       "min       -51.560000    -155.324000          1.000000       1.300000   \n",
       "25%         3.360000     -52.352000          9.000000       6.000000   \n",
       "50%        20.055000       9.065000         15.000000      10.000000   \n",
       "75%        40.550000     109.065000         26.000000      16.400000   \n",
       "max        69.880000     177.030000        770.000000     115.800000   \n",
       "\n",
       "       crown_radius_m   reference_id  \n",
       "count   312829.000000  498838.000000  \n",
       "mean         2.151126      37.107698  \n",
       "std          1.549920      18.660853  \n",
       "min          0.050000       1.000000  \n",
       "25%          1.050000      29.000000  \n",
       "50%          1.750000      35.000000  \n",
       "75%          2.750000      55.000000  \n",
       "max         24.250000      69.000000  "
      ]
     },
     "execution_count": 29,
     "metadata": {},
     "output_type": "execute_result"
    }
   ],
   "source": [
    "df.describe()"
   ]
  },
  {
   "cell_type": "markdown",
   "metadata": {},
   "source": [
    "Affichez le nombre de families, genus, species unique dans la table"
   ]
  },
  {
   "cell_type": "code",
   "execution_count": 30,
   "metadata": {},
   "outputs": [
    {
     "data": {
      "text/plain": [
       "species\n",
       "Quercus ilex               22760\n",
       "Pinus sylvestris           18221\n",
       "Pinus halepensis           14003\n",
       "Pinus pinaster             11766\n",
       "Quercus infectoria         10964\n",
       "                           ...  \n",
       "Lithocarpus orocola            1\n",
       "Decaspermum parviflorum        1\n",
       "Terminalia foetidissima        1\n",
       "Syzygium fastigiatum           1\n",
       "Tarenna mollis                 1\n",
       "Name: count, Length: 5163, dtype: int64"
      ]
     },
     "execution_count": 30,
     "metadata": {},
     "output_type": "execute_result"
    }
   ],
   "source": [
    "df['family'].value_counts()\n",
    "df['genus'].value_counts()\n",
    "df['species'].value_counts()"
   ]
  },
  {
   "cell_type": "markdown",
   "metadata": {},
   "source": [
    "Groupez les arbres par famille et calculez la hauteur (height_m) moyenne par famille.\n",
    "Quelle est la famille la plus grande ?"
   ]
  },
  {
   "cell_type": "code",
   "execution_count": 31,
   "metadata": {},
   "outputs": [
    {
     "data": {
      "text/plain": [
       "family\n",
       "Acanthaceae        11.108350\n",
       "Achariaceae        13.644479\n",
       "Achatocarpaceae     3.654545\n",
       "Actinidiaceae       7.336066\n",
       "Adoxaceae           4.417241\n",
       "                     ...    \n",
       "Vitaceae            9.007895\n",
       "Vochysiaceae       14.061579\n",
       "Winteraceae         9.392473\n",
       "Zamiaceae           4.800000\n",
       "Zygophyllaceae      4.605970\n",
       "Name: height_m, Length: 187, dtype: float64"
      ]
     },
     "execution_count": 31,
     "metadata": {},
     "output_type": "execute_result"
    }
   ],
   "source": [
    "mean_height_by_family = df['height_m'].groupby(df['family']).mean()\n",
    "mean_height_by_family"
   ]
  },
  {
   "cell_type": "markdown",
   "metadata": {},
   "source": [
    "Affichez les arbres ayant leur rayon de couronne 'crown_radius_m' le plus petit  \n",
    "Affichez le plus grand, avec son rayon.\n",
    "\n",
    "Rayon de la couronne (moyen):  \n",
    "La distance horizontal (moyenne), du tronc jusqu’au bout des feuilles.\n",
    "https://www.researchgate.net/figure/Measurement-of-crown-depth-A-and-crown-radius-B-image-adapted-from-Pretzsch-et-al_fig1_343524931 "
   ]
  },
  {
   "cell_type": "code",
   "execution_count": 32,
   "metadata": {},
   "outputs": [
    {
     "data": {
      "text/plain": [
       "2.1511255350367136"
      ]
     },
     "execution_count": 32,
     "metadata": {},
     "output_type": "execute_result"
    }
   ],
   "source": [
    "# Trouver l'arbre avec le plus petit rayon de couronne\n",
    "min_crown_radius_tree = df.loc[df['crown_radius_m'].idxmin()]\n",
    "\n",
    "# Trouver l'arbre avec le plus grand rayon de couronne\n",
    "max_crown_radius_tree = df.loc[df['crown_radius_m'].idxmax()]\n",
    "\n",
    "# Calculer le rayon de couronne moyen\n",
    "mean_crown_radius = df['crown_radius_m'].mean()\n",
    "\n",
    "min_crown_radius_tree\n",
    "max_crown_radius_tree\n",
    "mean_crown_radius"
   ]
  },
  {
   "cell_type": "markdown",
   "metadata": {},
   "source": [
    "Affichez un histogramme affichant la hauteur des arbres (height_m).\n",
    "Jouez avec le nombre de bins pour changer la précision du graphique\n",
    "\n",
    "(Vous pouvez Utilisez plt.hist et sns.histplot)\n",
    "\n",
    "Quelle est la hauteur la plus courant ? (Utilisez ce que renvoie plt.hist, avec 100 bins)"
   ]
  },
  {
   "cell_type": "code",
   "execution_count": 33,
   "metadata": {},
   "outputs": [
    {
     "data": {
      "text/plain": [
       "(array([9.89730e+04, 1.19715e+05, 9.06770e+04, 6.59990e+04, 4.42680e+04,\n",
       "        2.91050e+04, 1.87320e+04, 1.15250e+04, 7.98500e+03, 4.33900e+03,\n",
       "        2.27400e+03, 1.35100e+03, 7.91000e+02, 4.63000e+02, 3.21000e+02,\n",
       "        2.38000e+02, 1.95000e+02, 1.02000e+02, 8.20000e+01, 4.50000e+01,\n",
       "        3.30000e+01, 3.70000e+01, 4.00000e+01, 2.40000e+01, 8.00000e+00,\n",
       "        4.00000e+00, 3.00000e+00, 0.00000e+00, 3.00000e+00, 3.00000e+00]),\n",
       " array([  1.3       ,   5.11666667,   8.93333333,  12.75      ,\n",
       "         16.56666667,  20.38333333,  24.2       ,  28.01666667,\n",
       "         31.83333333,  35.65      ,  39.46666667,  43.28333333,\n",
       "         47.1       ,  50.91666667,  54.73333333,  58.55      ,\n",
       "         62.36666667,  66.18333333,  70.        ,  73.81666667,\n",
       "         77.63333333,  81.45      ,  85.26666667,  89.08333333,\n",
       "         92.9       ,  96.71666667, 100.53333333, 104.35      ,\n",
       "        108.16666667, 111.98333333, 115.8       ]),\n",
       " <BarContainer object of 30 artists>)"
      ]
     },
     "execution_count": 33,
     "metadata": {},
     "output_type": "execute_result"
    },
    {
     "data": {
      "image/png": "[encoded data removed]",
      "text/plain": [
       "<Figure size 640x480 with 1 Axes>"
      ]
     },
     "metadata": {},
     "output_type": "display_data"
    }
   ],
   "source": [
    "plt.hist(df['height_m'], bins=30)"
   ]
  },
  {
   "cell_type": "code",
   "execution_count": 34,
   "metadata": {},
   "outputs": [
    {
     "data": {
      "text/plain": [
       "(array([2.1453e+04, 5.2691e+04, 6.4489e+04, 4.9429e+04, 4.5911e+04,\n",
       "        4.5142e+04, 3.0250e+04, 3.1252e+04, 2.9512e+04, 1.9329e+04,\n",
       "        1.9441e+04, 1.4548e+04, 1.4036e+04, 1.0899e+04, 8.4410e+03,\n",
       "        7.7770e+03, 6.5230e+03, 5.0290e+03, 4.4310e+03, 3.6920e+03,\n",
       "        2.7040e+03, 2.2890e+03, 1.6110e+03, 1.3190e+03, 9.0100e+02,\n",
       "        6.8600e+02, 6.4200e+02, 5.1600e+02, 3.8100e+02, 3.1200e+02,\n",
       "        2.9000e+02, 1.8500e+02, 1.4700e+02, 1.3600e+02, 1.2400e+02,\n",
       "        1.1700e+02, 9.3000e+01, 9.6000e+01, 7.8000e+01, 7.2000e+01,\n",
       "        4.6000e+01, 3.3000e+01, 3.8000e+01, 3.4000e+01, 2.5000e+01,\n",
       "        1.9000e+01, 1.8000e+01, 1.5000e+01, 1.1000e+01, 1.2000e+01,\n",
       "        6.0000e+00, 2.9000e+01, 2.1000e+01, 1.1000e+01, 1.3000e+01,\n",
       "        9.0000e+00, 3.0000e+00, 4.0000e+00, 2.0000e+00, 0.0000e+00,\n",
       "        4.0000e+00, 2.0000e+00, 0.0000e+00, 0.0000e+00, 0.0000e+00,\n",
       "        1.0000e+00, 1.0000e+00, 2.0000e+00, 1.0000e+00, 1.0000e+00]),\n",
       " array([  1.3       ,   2.93571429,   4.57142857,   6.20714286,\n",
       "          7.84285714,   9.47857143,  11.11428571,  12.75      ,\n",
       "         14.38571429,  16.02142857,  17.65714286,  19.29285714,\n",
       "         20.92857143,  22.56428571,  24.2       ,  25.83571429,\n",
       "         27.47142857,  29.10714286,  30.74285714,  32.37857143,\n",
       "         34.01428571,  35.65      ,  37.28571429,  38.92142857,\n",
       "         40.55714286,  42.19285714,  43.82857143,  45.46428571,\n",
       "         47.1       ,  48.73571429,  50.37142857,  52.00714286,\n",
       "         53.64285714,  55.27857143,  56.91428571,  58.55      ,\n",
       "         60.18571429,  61.82142857,  63.45714286,  65.09285714,\n",
       "         66.72857143,  68.36428571,  70.        ,  71.63571429,\n",
       "         73.27142857,  74.90714286,  76.54285714,  78.17857143,\n",
       "         79.81428571,  81.45      ,  83.08571429,  84.72142857,\n",
       "         86.35714286,  87.99285714,  89.62857143,  91.26428571,\n",
       "         92.9       ,  94.53571429,  96.17142857,  97.80714286,\n",
       "         99.44285714, 101.07857143, 102.71428571, 104.35      ,\n",
       "        105.98571429, 107.62142857, 109.25714286, 110.89285714,\n",
       "        112.52857143, 114.16428571, 115.8       ]),\n",
       " <BarContainer object of 70 artists>)"
      ]
     },
     "execution_count": 34,
     "metadata": {},
     "output_type": "execute_result"
    },
    {
     "data": {
      "image/png": "[encoded data removed]",
      "text/plain": [
       "<Figure size 640x480 with 1 Axes>"
      ]
     },
     "metadata": {},
     "output_type": "display_data"
    }
   ],
   "source": [
    "plt.hist(df['height_m'], bins=70)"
   ]
  },
  {
   "cell_type": "markdown",
   "metadata": {},
   "source": [
    "Afficher dans deux plots côte à côte :\n",
    "- Un histogramme affichant les arbres dont le diamètre du tronc (stem_diameter_cm) est inférieur à 100 cm\n",
    "- Un histogramme affichant les arbres dont le diamètre du tronc (stem_diameter_cm) est supérieur à 100 cm"
   ]
  },
  {
   "cell_type": "code",
   "execution_count": 35,
   "metadata": {},
   "outputs": [
    {
     "data": {
      "text/plain": [
       "(array([51764., 46519., 63313., 73429., 52651., 37323., 32421., 26202.,\n",
       "        20720., 15680., 13647., 10424.,  9324.,  8931.,  6705.,  5048.,\n",
       "         4307.,  3209.,  2478.,  2176.,  1778.,  1524.,  1228.,  1050.,\n",
       "          939.,   857.,   715.,   584.,   527.,   414.]),\n",
       " array([ 1.        ,  4.29666667,  7.59333333, 10.89      , 14.18666667,\n",
       "        17.48333333, 20.78      , 24.07666667, 27.37333333, 30.67      ,\n",
       "        33.96666667, 37.26333333, 40.56      , 43.85666667, 47.15333333,\n",
       "        50.45      , 53.74666667, 57.04333333, 60.34      , 63.63666667,\n",
       "        66.93333333, 70.23      , 73.52666667, 76.82333333, 80.12      ,\n",
       "        83.41666667, 86.71333333, 90.01      , 93.30666667, 96.60333333,\n",
       "        99.9       ]),\n",
       " <BarContainer object of 30 artists>)"
      ]
     },
     "execution_count": 35,
     "metadata": {},
     "output_type": "execute_result"
    },
    {
     "data": {
      "image/png": "[encoded data removed]",
      "text/plain": [
       "<Figure size 640x480 with 1 Axes>"
      ]
     },
     "metadata": {},
     "output_type": "display_data"
    }
   ],
   "source": [
    "plt.hist(df[df['stem_diameter_cm'] < 100]['stem_diameter_cm'], bins=30, color=current_colors[0], alpha=0.5)"
   ]
  },
  {
   "cell_type": "code",
   "execution_count": 36,
   "metadata": {},
   "outputs": [
    {
     "data": {
      "text/plain": [
       "(array([1.579e+03, 6.040e+02, 2.370e+02, 1.200e+02, 6.700e+01, 6.900e+01,\n",
       "        4.600e+01, 2.400e+01, 3.100e+01, 2.000e+01, 1.300e+01, 1.100e+01,\n",
       "        1.200e+01, 1.200e+01, 3.000e+00, 5.000e+00, 5.000e+00, 7.000e+00,\n",
       "        9.000e+00, 9.000e+00, 4.000e+00, 8.000e+00, 4.000e+00, 0.000e+00,\n",
       "        2.000e+00, 0.000e+00, 0.000e+00, 0.000e+00, 0.000e+00, 1.000e+00]),\n",
       " array([100.1 , 122.43, 144.76, 167.09, 189.42, 211.75, 234.08, 256.41,\n",
       "        278.74, 301.07, 323.4 , 345.73, 368.06, 390.39, 412.72, 435.05,\n",
       "        457.38, 479.71, 502.04, 524.37, 546.7 , 569.03, 591.36, 613.69,\n",
       "        636.02, 658.35, 680.68, 703.01, 725.34, 747.67, 770.  ]),\n",
       " <BarContainer object of 30 artists>)"
      ]
     },
     "execution_count": 36,
     "metadata": {},
     "output_type": "execute_result"
    },
    {
     "data": {
      "image/png": "[encoded data removed]",
      "text/plain": [
       "<Figure size 640x480 with 1 Axes>"
      ]
     },
     "metadata": {},
     "output_type": "display_data"
    }
   ],
   "source": [
    "plt.hist(df[df['stem_diameter_cm'] > 100]['stem_diameter_cm'], bins=30, color=current_colors[0], alpha=0.5)"
   ]
  },
  {
   "cell_type": "markdown",
   "metadata": {},
   "source": [
    "Récupérer les 10 espèces (species) les plus grandes en moyenne.\n",
    "Afficher le résultat dans un barplot."
   ]
  },
  {
   "cell_type": "code",
   "execution_count": 37,
   "metadata": {},
   "outputs": [
    {
     "data": {
      "text/html": [
       "<div>\n",
       "<style scoped>\n",
       "    .dataframe tbody tr th:only-of-type {\n",
       "        vertical-align: middle;\n",
       "    }\n",
       "\n",
       "    .dataframe tbody tr th {\n",
       "        vertical-align: top;\n",
       "    }\n",
       "\n",
       "    .dataframe thead th {\n",
       "        text-align: right;\n",
       "    }\n",
       "</style>\n",
       "<table border=\"1\" class=\"dataframe\">\n",
       "  <thead>\n",
       "    <tr style=\"text-align: right;\">\n",
       "      <th></th>\n",
       "      <th>tree_id</th>\n",
       "      <th>division</th>\n",
       "      <th>family</th>\n",
       "      <th>genus</th>\n",
       "      <th>species</th>\n",
       "      <th>latitude</th>\n",
       "      <th>longitude</th>\n",
       "      <th>stem_diameter_cm</th>\n",
       "      <th>height_m</th>\n",
       "      <th>crown_radius_m</th>\n",
       "      <th>height_outlier</th>\n",
       "      <th>crown_radius_outlier</th>\n",
       "      <th>reference_id</th>\n",
       "    </tr>\n",
       "  </thead>\n",
       "  <tbody>\n",
       "    <tr>\n",
       "      <th>453218</th>\n",
       "      <td>T_453219</td>\n",
       "      <td>Gymnosperm</td>\n",
       "      <td>Cupressaceae</td>\n",
       "      <td>Sequoia</td>\n",
       "      <td>Sequoia sempervirens</td>\n",
       "      <td>41.205</td>\n",
       "      <td>-124.016</td>\n",
       "      <td>483.0</td>\n",
       "      <td>115.8</td>\n",
       "      <td>NaN</td>\n",
       "      <td>N</td>\n",
       "      <td>N</td>\n",
       "      <td>64</td>\n",
       "    </tr>\n",
       "    <tr>\n",
       "      <th>87624</th>\n",
       "      <td>T_87625</td>\n",
       "      <td>Gymnosperm</td>\n",
       "      <td>Cupressaceae</td>\n",
       "      <td>Sequoia</td>\n",
       "      <td>Sequoia sempervirens</td>\n",
       "      <td>40.000</td>\n",
       "      <td>-123.800</td>\n",
       "      <td>598.0</td>\n",
       "      <td>112.9</td>\n",
       "      <td>NaN</td>\n",
       "      <td>N</td>\n",
       "      <td>N</td>\n",
       "      <td>17</td>\n",
       "    </tr>\n",
       "    <tr>\n",
       "      <th>87621</th>\n",
       "      <td>T_87622</td>\n",
       "      <td>Gymnosperm</td>\n",
       "      <td>Cupressaceae</td>\n",
       "      <td>Sequoia</td>\n",
       "      <td>Sequoia sempervirens</td>\n",
       "      <td>40.000</td>\n",
       "      <td>-123.800</td>\n",
       "      <td>360.0</td>\n",
       "      <td>112.5</td>\n",
       "      <td>NaN</td>\n",
       "      <td>N</td>\n",
       "      <td>N</td>\n",
       "      <td>17</td>\n",
       "    </tr>\n",
       "    <tr>\n",
       "      <th>87623</th>\n",
       "      <td>T_87624</td>\n",
       "      <td>Gymnosperm</td>\n",
       "      <td>Cupressaceae</td>\n",
       "      <td>Sequoia</td>\n",
       "      <td>Sequoia sempervirens</td>\n",
       "      <td>40.000</td>\n",
       "      <td>-123.800</td>\n",
       "      <td>474.0</td>\n",
       "      <td>111.6</td>\n",
       "      <td>NaN</td>\n",
       "      <td>N</td>\n",
       "      <td>N</td>\n",
       "      <td>17</td>\n",
       "    </tr>\n",
       "    <tr>\n",
       "      <th>87622</th>\n",
       "      <td>T_87623</td>\n",
       "      <td>Gymnosperm</td>\n",
       "      <td>Cupressaceae</td>\n",
       "      <td>Sequoia</td>\n",
       "      <td>Sequoia sempervirens</td>\n",
       "      <td>40.000</td>\n",
       "      <td>-123.800</td>\n",
       "      <td>414.0</td>\n",
       "      <td>110.0</td>\n",
       "      <td>NaN</td>\n",
       "      <td>N</td>\n",
       "      <td>N</td>\n",
       "      <td>17</td>\n",
       "    </tr>\n",
       "    <tr>\n",
       "      <th>87620</th>\n",
       "      <td>T_87621</td>\n",
       "      <td>Gymnosperm</td>\n",
       "      <td>Cupressaceae</td>\n",
       "      <td>Sequoia</td>\n",
       "      <td>Sequoia sempervirens</td>\n",
       "      <td>40.000</td>\n",
       "      <td>-123.800</td>\n",
       "      <td>320.0</td>\n",
       "      <td>108.5</td>\n",
       "      <td>NaN</td>\n",
       "      <td>N</td>\n",
       "      <td>N</td>\n",
       "      <td>17</td>\n",
       "    </tr>\n",
       "    <tr>\n",
       "      <th>481205</th>\n",
       "      <td>T_481206</td>\n",
       "      <td>NaN</td>\n",
       "      <td>NaN</td>\n",
       "      <td>NaN</td>\n",
       "      <td>NaN</td>\n",
       "      <td>31.198</td>\n",
       "      <td>-84.469</td>\n",
       "      <td>13.6</td>\n",
       "      <td>102.7</td>\n",
       "      <td>NaN</td>\n",
       "      <td>Y</td>\n",
       "      <td>N</td>\n",
       "      <td>65</td>\n",
       "    </tr>\n",
       "    <tr>\n",
       "      <th>87625</th>\n",
       "      <td>T_87626</td>\n",
       "      <td>Gymnosperm</td>\n",
       "      <td>Cupressaceae</td>\n",
       "      <td>Sequoia</td>\n",
       "      <td>Sequoia sempervirens</td>\n",
       "      <td>40.000</td>\n",
       "      <td>-123.800</td>\n",
       "      <td>648.0</td>\n",
       "      <td>102.5</td>\n",
       "      <td>NaN</td>\n",
       "      <td>N</td>\n",
       "      <td>N</td>\n",
       "      <td>17</td>\n",
       "    </tr>\n",
       "    <tr>\n",
       "      <th>354642</th>\n",
       "      <td>T_354643</td>\n",
       "      <td>Angiosperm</td>\n",
       "      <td>Dipterocarpaceae</td>\n",
       "      <td>Shorea</td>\n",
       "      <td>Shorea faguetiana</td>\n",
       "      <td>4.917</td>\n",
       "      <td>117.667</td>\n",
       "      <td>212.0</td>\n",
       "      <td>100.8</td>\n",
       "      <td>20.0</td>\n",
       "      <td>N</td>\n",
       "      <td>N</td>\n",
       "      <td>51</td>\n",
       "    </tr>\n",
       "    <tr>\n",
       "      <th>453217</th>\n",
       "      <td>T_453218</td>\n",
       "      <td>Angiosperm</td>\n",
       "      <td>Myrtaceae</td>\n",
       "      <td>Eucalyptus</td>\n",
       "      <td>Eucalyptus regnans</td>\n",
       "      <td>-43.077</td>\n",
       "      <td>146.769</td>\n",
       "      <td>405.0</td>\n",
       "      <td>99.7</td>\n",
       "      <td>NaN</td>\n",
       "      <td>N</td>\n",
       "      <td>N</td>\n",
       "      <td>64</td>\n",
       "    </tr>\n",
       "  </tbody>\n",
       "</table>\n",
       "</div>"
      ],
      "text/plain": [
       "         tree_id    division            family       genus  \\\n",
       "453218  T_453219  Gymnosperm      Cupressaceae     Sequoia   \n",
       "87624    T_87625  Gymnosperm      Cupressaceae     Sequoia   \n",
       "87621    T_87622  Gymnosperm      Cupressaceae     Sequoia   \n",
       "87623    T_87624  Gymnosperm      Cupressaceae     Sequoia   \n",
       "87622    T_87623  Gymnosperm      Cupressaceae     Sequoia   \n",
       "87620    T_87621  Gymnosperm      Cupressaceae     Sequoia   \n",
       "481205  T_481206         NaN               NaN         NaN   \n",
       "87625    T_87626  Gymnosperm      Cupressaceae     Sequoia   \n",
       "354642  T_354643  Angiosperm  Dipterocarpaceae      Shorea   \n",
       "453217  T_453218  Angiosperm         Myrtaceae  Eucalyptus   \n",
       "\n",
       "                     species  latitude  longitude  stem_diameter_cm  height_m  \\\n",
       "453218  Sequoia sempervirens    41.205   -124.016             483.0     115.8   \n",
       "87624   Sequoia sempervirens    40.000   -123.800             598.0     112.9   \n",
       "87621   Sequoia sempervirens    40.000   -123.800             360.0     112.5   \n",
       "87623   Sequoia sempervirens    40.000   -123.800             474.0     111.6   \n",
       "87622   Sequoia sempervirens    40.000   -123.800             414.0     110.0   \n",
       "87620   Sequoia sempervirens    40.000   -123.800             320.0     108.5   \n",
       "481205                   NaN    31.198    -84.469              13.6     102.7   \n",
       "87625   Sequoia sempervirens    40.000   -123.800             648.0     102.5   \n",
       "354642     Shorea faguetiana     4.917    117.667             212.0     100.8   \n",
       "453217    Eucalyptus regnans   -43.077    146.769             405.0      99.7   \n",
       "\n",
       "        crown_radius_m height_outlier crown_radius_outlier  reference_id  \n",
       "453218             NaN              N                    N            64  \n",
       "87624              NaN              N                    N            17  \n",
       "87621              NaN              N                    N            17  \n",
       "87623              NaN              N                    N            17  \n",
       "87622              NaN              N                    N            17  \n",
       "87620              NaN              N                    N            17  \n",
       "481205             NaN              Y                    N            65  \n",
       "87625              NaN              N                    N            17  \n",
       "354642            20.0              N                    N            51  \n",
       "453217             NaN              N                    N            64  "
      ]
     },
     "execution_count": 37,
     "metadata": {},
     "output_type": "execute_result"
    }
   ],
   "source": [
    "df.sort_values(by='height_m', ascending=False).head(10)"
   ]
  },
  {
   "cell_type": "markdown",
   "metadata": {},
   "source": [
    "Pour chaque arbre, vous avez ses coordonnées (avec latitude et longitude). Utilisez la fonction scatter pour les afficher dans le plan.\n",
    "Ajustez la taille des points pour que l’affichage soit plus lisible.\n",
    "(On devrait quasiment voir la carte du monde)"
   ]
  },
  {
   "cell_type": "code",
   "execution_count": 38,
   "metadata": {},
   "outputs": [
    {
     "data": {
      "text/plain": [
       "<matplotlib.collections.PathCollection at 0x1df27103050>"
      ]
     },
     "execution_count": 38,
     "metadata": {},
     "output_type": "execute_result"
    },
    {
     "data": {
      "image/png": "[encoded data removed]",
      "text/plain": [
       "<Figure size 1000x600 with 1 Axes>"
      ]
     },
     "metadata": {},
     "output_type": "display_data"
    }
   ],
   "source": [
    "plt.figure(figsize=(10, 6))\n",
    "plt.scatter(df[\"latitude\"], df[\"longitude\"], s=10, alpha=0.5)"
   ]
  },
  {
   "cell_type": "markdown",
   "metadata": {},
   "source": [
    "Bonus : Utilisez l’exemple que l’on a vu en CM pour afficher la carte du monde avec ces mêmes points.\n",
    "Vous pouvez vous amuser à grouper les points et afficher des densités empiriques.\n",
    "\n",
    "(Utilisez Basemap avec une projection \"cyl\", et les options llcrnrlat=-90, urcrnrlat=90, llcrnrlon=-180, urcrnrlon=180)\n",
    "https://matplotlib.org/basemap/stable/users/cyl.html"
   ]
  },
  {
   "cell_type": "code",
   "execution_count": 39,
   "metadata": {},
   "outputs": [],
   "source": [
    "from mpl_toolkits.basemap import Basemap"
   ]
  },
  {
   "cell_type": "code",
   "execution_count": 40,
   "metadata": {},
   "outputs": [
    {
     "data": {
      "text/plain": [
       "Text(0.5, 1.0, 'Coordonnées des arbres sur la carte du monde')"
      ]
     },
     "execution_count": 40,
     "metadata": {},
     "output_type": "execute_result"
    },
    {
     "data": {
      "image/png": "[encoded data removed]",
      "text/plain": [
       "<Figure size 640x480 with 1 Axes>"
      ]
     },
     "metadata": {},
     "output_type": "display_data"
    }
   ],
   "source": [
    "# Créer une carte Basemap avec une projection cylindrique\n",
    "m = Basemap(projection='cyl', llcrnrlat=-90, urcrnrlat=90, llcrnrlon=-180, urcrnrlon=180, resolution='c')\n",
    "\n",
    "# Dessiner les côtes et les frontières\n",
    "m.drawcoastlines()\n",
    "m.drawcountries()\n",
    "\n",
    "# Convertir les coordonnées latitude et longitude en coordonnées x et y\n",
    "x, y = m(df[\"longitude\"].values, df[\"latitude\"].values)\n",
    "\n",
    "# Tracer les points sur la carte\n",
    "m.scatter(x, y, s=10, alpha=0.5, color='blue')\n",
    "\n",
    "# Ajouter un titre\n",
    "plt.title('Coordonnées des arbres sur la carte du monde')"
   ]
  }
 ],
 "metadata": {
  "kernelspec": {
   "display_name": "Python 3",
   "language": "python",
   "name": "python3"
  },
  "language_info": {
   "codemirror_mode": {
    "name": "ipython",
    "version": 3
   },
   "file_extension": ".py",
   "mimetype": "text/x-python",
   "name": "python",
   "nbconvert_exporter": "python",
   "pygments_lexer": "ipython3",
   "version": "3.11.9"
  }
 },
 "nbformat": 4,
 "nbformat_minor": 2
}
